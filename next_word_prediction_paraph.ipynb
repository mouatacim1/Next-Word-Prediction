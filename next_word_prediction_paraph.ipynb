{
  "cells": [
    {
      "cell_type": "code",
      "execution_count": 26,
      "metadata": {
        "id": "RUch49C3HHdo"
      },
      "outputs": [],
      "source": [
        "import nltk\n",
        "import keras\n",
        "import string\n",
        "import pandas as pd\n",
        "import numpy as np\n",
        "from keras import backend as K\n",
        "import tensorflow as tf\n",
        "from tensorflow.keras.preprocessing.sequence import pad_sequences\n",
        "from tensorflow.keras.layers import Embedding, LSTM, Dense, Bidirectional\n",
        "from tensorflow.keras.preprocessing.text import Tokenizer\n",
        "from tensorflow.keras.models import Sequential\n",
        "from tensorflow.keras.optimizers import Adam\n",
        "import gensim.models.keyedvectors as word2vec1\n",
        "from scipy import spatial\n",
        "from gensim.models import FastText"
      ]
    },
    {
      "cell_type": "code",
      "execution_count": null,
      "metadata": {
        "colab": {
          "base_uri": "https://localhost:8080/"
        },
        "id": "W5Yytv9hHo5G",
        "outputId": "4810b8fd-4013-4d61-edd6-de0958c3875c"
      },
      "outputs": [],
      "source": [
        "path = \"\\data\\Metamorphosis_clean.txt\"\n",
        "text = open(path,encoding='utf-8').read().lower()\n",
        "text = text.replace('\\r', '').replace('\\ufeff', '')\n",
        "translator = str.maketrans(string.punctuation, ' '*len(string.punctuation))\n",
        "text = text.translate(translator)\n",
        "corpus = text.split('\\n')"
      ]
    },
    {
      "cell_type": "code",
      "execution_count": null,
      "metadata": {
        "colab": {
          "base_uri": "https://localhost:8080/"
        },
        "id": "wf3BZTyDHynV",
        "outputId": "5e61d71c-eeb3-4080-ecdb-2e34c5de2de2"
      },
      "outputs": [],
      "source": [
        "tokenizer = Tokenizer()\n",
        "tokenizer.fit_on_texts(corpus)\n",
        "word_index = tokenizer.word_index\n",
        "total_unique_words = len(tokenizer.word_index) + 1"
      ]
    },
    {
      "cell_type": "code",
      "execution_count": null,
      "metadata": {
        "colab": {
          "base_uri": "https://localhost:8080/"
        },
        "id": "1iTwUKSGH3Oh",
        "outputId": "e5325a76-1c35-4afb-dbae-e3d57a02fdbe"
      },
      "outputs": [],
      "source": [
        "input_sequences = []\n",
        "for line in corpus:\n",
        "  token_list = tokenizer.texts_to_sequences([line])[0]\n",
        "  for i in range(1, len(token_list)): \n",
        "    n_gram_seqs = token_list[:i+1]\n",
        "    input_sequences.append(n_gram_seqs)"
      ]
    },
    {
      "cell_type": "code",
      "execution_count": null,
      "metadata": {
        "colab": {
          "base_uri": "https://localhost:8080/"
        },
        "id": "qkzRFNLfH9k9",
        "outputId": "bb45ce9c-8728-4cd4-c6f1-bca608ef7a23"
      },
      "outputs": [],
      "source": [
        "max_seq_length = max([len(x) for x in input_sequences])\n",
        "input_seqs = np.array(pad_sequences(input_sequences, maxlen=max_seq_length, padding='pre'))"
      ]
    },
    {
      "cell_type": "code",
      "execution_count": 31,
      "metadata": {
        "id": "wk2jFosEJAIB"
      },
      "outputs": [],
      "source": [
        "x_values, labels = input_seqs[:, :-1], input_seqs[:, -1]\n",
        "y_values = tf.keras.utils.to_categorical(labels, num_classes=total_unique_words)"
      ]
    },
    {
      "cell_type": "code",
      "execution_count": 9,
      "metadata": {
        "id": "AJFPwv51elrE"
      },
      "outputs": [],
      "source": [
        "pathToBinVectors = 'cc.en.300.vec'\n",
        "embed_map = word2vec1.KeyedVectors.load_word2vec_format(pathToBinVectors)"
      ]
    },
    {
      "cell_type": "code",
      "execution_count": null,
      "metadata": {
        "colab": {
          "base_uri": "https://localhost:8080/"
        },
        "id": "Zd3bjKLaxWvF",
        "outputId": "e4652d37-ce5a-4e23-93ef-23c972f337dd"
      },
      "outputs": [],
      "source": [
        "embed_map.get_vector('hello')"
      ]
    },
    {
      "cell_type": "code",
      "execution_count": 11,
      "metadata": {
        "id": "tzlZv3-xmnEa"
      },
      "outputs": [],
      "source": [
        "embeddings_matrix = np.zeros((total_unique_words, 300))\n",
        "wordss = []\n",
        "for word, i in word_index.items():\n",
        "  embedding_vector = embed_map.get_vector(word)\n",
        "  wordss.append(word)\n",
        "  if embedding_vector is not None:\n",
        "    embeddings_matrix[i] = embedding_vector"
      ]
    },
    {
      "cell_type": "code",
      "execution_count": 14,
      "metadata": {
        "id": "-PVyo2IZnGiU"
      },
      "outputs": [],
      "source": [
        "model = tf.keras.Sequential([\n",
        "tf.keras.layers.Embedding(input_dim = total_unique_words, output_dim=300, weights=[embeddings_matrix], input_length=max_seq_length-1, trainable=False),\n",
        "tf.keras.layers.Bidirectional(tf.keras.layers.LSTM(256, return_sequences=True)),\n",
        "tf.keras.layers.Dropout(0.2), \n",
        "tf.keras.layers.Bidirectional(tf.keras.layers.LSTM(256)),\n",
        "tf.keras.layers.Dropout(0.2),\n",
        "tf.keras.layers.Dense(128, activation='relu'),\n",
        "tf.keras.layers.Dense(total_unique_words, activation='softmax')])\n",
        "model.compile(optimizer=Adam(learning_rate=0.001), loss='categorical_crossentropy', metrics=['accuracy'])"
      ]
    },
    {
      "cell_type": "code",
      "execution_count": null,
      "metadata": {
        "colab": {
          "base_uri": "https://localhost:8080/"
        },
        "id": "G0YJXRsaqGs-",
        "outputId": "62810f92-710f-4b53-e530-33b1d82d2fe2"
      },
      "outputs": [],
      "source": [
        "history = model.fit(x_values, y_values, epochs=200, validation_split=0.2, verbose=1, batch_size=20)"
      ]
    },
    {
      "cell_type": "code",
      "execution_count": null,
      "metadata": {
        "colab": {
          "base_uri": "https://localhost:8080/"
        },
        "id": "WHgZd9MZ4LsG",
        "outputId": "d138057c-1755-48d9-c501-89d5ae77ac20"
      },
      "outputs": [],
      "source": [
        "def prediction(seed_text, next_words): \n",
        "  for _ in range(next_words):\n",
        "    token_list = tokenizer.texts_to_sequences([seed_text])[0]\n",
        "    token_list = pad_sequences([token_list], maxlen=max_seq_length-1, padding='pre')\n",
        "    predicted = np.argmax(model.predict(token_list, verbose=1), axis=-1)\n",
        "    ouput_word = \"\"\n",
        "\n",
        "    for word, index in tokenizer.word_index.items():\n",
        "      if index == predicted:  \n",
        "        output_word = word\n",
        "        break\n",
        "      \n",
        "    seed_text += ' '+output_word\n",
        "    print(seed_text)\n",
        "\n",
        "seed_phrase = \"I am\"\n",
        "next_words = len(\"one two  three\".split())\n",
        "prediction(seed_phrase, next_words)"
      ]
    }
  ],
  "metadata": {
    "colab": {
      "collapsed_sections": [],
      "provenance": []
    },
    "kernelspec": {
      "display_name": "Python 3.9.7 64-bit",
      "language": "python",
      "name": "python3"
    },
    "language_info": {
      "name": "python",
      "version": "3.9.7"
    },
    "vscode": {
      "interpreter": {
        "hash": "e31aef8222fb7c235d2ed8e74ce17e973738f89b37261e7466b7a63a6dfb1214"
      }
    }
  },
  "nbformat": 4,
  "nbformat_minor": 0
}
